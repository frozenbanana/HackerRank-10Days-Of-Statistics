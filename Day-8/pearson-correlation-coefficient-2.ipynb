{
 "cells": [
  {
   "cell_type": "markdown",
   "metadata": {},
   "source": [
    "The regression line of y on x is 3x + 4y + 8 = 0, and the regression line of x on y is 4x+ 3y + 7 = 0. What is the value of the Pearson correlation coefficient?"
   ]
  },
  {
   "cell_type": "code",
   "execution_count": 5,
   "metadata": {},
   "outputs": [],
   "source": [
    "# y = -3/4 * x + 8/4\n",
    "# x = -3/4 * y - 7/4\n",
    "b1 = -3/4\n",
    "b2 = -3/4\n",
    "# Using formula b = pearson_cor_coef * (std_Y/std_X)\n",
    "# -3/4 = pearson_cor_coef * (std_Y/std_X)\n",
    "# -3/4 = pearson_cor_coef * (std_X/std_Y)\n",
    "# Answer: pearson_cor_coef: -3/4\n"
   ]
  },
  {
   "cell_type": "code",
   "execution_count": null,
   "metadata": {},
   "outputs": [],
   "source": []
  }
 ],
 "metadata": {
  "kernelspec": {
   "display_name": "Python 3",
   "language": "python",
   "name": "python3"
  },
  "language_info": {
   "codemirror_mode": {
    "name": "ipython",
    "version": 3
   },
   "file_extension": ".py",
   "mimetype": "text/x-python",
   "name": "python",
   "nbconvert_exporter": "python",
   "pygments_lexer": "ipython3",
   "version": "3.6.5"
  }
 },
 "nbformat": 4,
 "nbformat_minor": 2
}
