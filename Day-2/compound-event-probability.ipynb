{
 "cells": [
  {
   "cell_type": "markdown",
   "metadata": {},
   "source": [
    "There are 3 urns labeled X, Y, and Z. \n",
    "\n",
    "\n",
    "<li> Urn X contains 4 red balls and 3 black balls.</li>\n",
    "<li>Urn Y contains 5 red balls and 4 black balls. </li>\n",
    "<li>Urn Z contains 4 red balls and 5 black balls. </li>\n",
    "\n",
    "One ball is drawn from each of the 3 urns. What is the probability that, of the 3 balls drawn, 2 are red and 1 is black?"
   ]
  },
  {
   "cell_type": "markdown",
   "metadata": {},
   "source": [
    "Solution: P(R B B) + P(B R B) + P(B B R)"
   ]
  },
  {
   "cell_type": "code",
   "execution_count": 19,
   "metadata": {
    "collapsed": true
   },
   "outputs": [
    {
     "name": "stdout",
     "output_type": "stream",
     "text": [
      "17/42\n"
     ]
    }
   ],
   "source": [
    "from fractions import Fraction\n",
    "\n",
    "p_rrb = 4/7 * 5/9 * 4/8\n",
    "p_rbr = 4/7 * 4/9 * 4/8\n",
    "p_brr = 3/7 * 5/9 * 4/8\n",
    "# Because they are mutually exclusive (meaning one one occurance can happen) we must add the proberbility\n",
    "result = Fraction(p_rrb + p_rbr + p_brr)\n",
    "print(result.limit_denominator())\n"
   ]
  },
  {
   "cell_type": "code",
   "execution_count": null,
   "metadata": {},
   "outputs": [],
   "source": []
  }
 ],
 "metadata": {
  "kernelspec": {
   "display_name": "Python 2",
   "language": "python",
   "name": "python2"
  },
  "language_info": {
   "codemirror_mode": {
    "name": "ipython",
    "version": 2
   },
   "file_extension": ".py",
   "mimetype": "text/x-python",
   "name": "python",
   "nbconvert_exporter": "python",
   "pygments_lexer": "ipython2",
   "version": "2.7.6"
  }
 },
 "nbformat": 4,
 "nbformat_minor": 0
}
