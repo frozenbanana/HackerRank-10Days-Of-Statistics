{
 "cells": [
  {
   "cell_type": "markdown",
   "metadata": {
    "collapsed": true
   },
   "source": [
    "#Objective\n",
    "In this challenge, we practice calculating probability. Check out the Tutorial tab for a breakdown of probability fundamentals! \n",
    "\n",
    "#Task \n",
    "In a single toss of 2 fair (evenly-weighted) six-sided dice, find the probability that their sum will be at most 9."
   ]
  },
  {
   "cell_type": "markdown",
   "metadata": {},
   "source": [
    "# Solution\n",
    "## Step 1:\n",
    "A single toss of 1 fair (evenly-weighted) six-sided dice, find the probability that their sum will be at most 3."
   ]
  },
  {
   "cell_type": "code",
   "execution_count": null,
   "metadata": {},
   "outputs": [
    {
     "name": "stdout",
     "output_type": "stream",
     "text": [
      "0.5\n"
     ]
    }
   ],
   "source": [
    "dice1 = [1,2,3,4,5,6]\n",
    "nr_of_fav = sum(i > 3 for i in dice1)\n",
    "p = nr_of_fav/len(dice1)\n",
    "print(p)"
   ]
  },
  {
   "cell_type": "markdown",
   "metadata": {},
   "source": [
    "## Step 2:\n",
    "Find all combinations of the [1,2,3,4,5,6] x [1,2,3,4,5,6] with size 2 that has a sum then 9 or lower."
   ]
  },
  {
   "cell_type": "code",
   "execution_count": 16,
   "metadata": {},
   "outputs": [
    {
     "data": {
      "text/plain": [
       "30"
      ]
     },
     "execution_count": 16,
     "metadata": {},
     "output_type": "execute_result"
    }
   ],
   "source": [
    "nr_of_fav=0\n",
    "dice2 = dice1\n",
    "for i in range(len(dice1)):\n",
    "    for j in range(len(dice2)):\n",
    "        if dice1[i] + dice2[j] <= 9:\n",
    "            nr_of_fav += 1\n",
    "\n",
    "nr_of_fav"
   ]
  },
  {
   "cell_type": "markdown",
   "metadata": {},
   "source": [
    "#Step 3:\n",
    "Solve original task"
   ]
  },
  {
   "cell_type": "code",
   "execution_count": 20,
   "metadata": {},
   "outputs": [
    {
     "data": {
      "text/plain": [
       "0.8333333333333334"
      ]
     },
     "execution_count": 20,
     "metadata": {},
     "output_type": "execute_result"
    }
   ],
   "source": [
    "p = nr_of_fav/(len(dice1)*len(dice2))\n",
    "p"
   ]
  }
 ],
 "metadata": {
  "kernelspec": {
   "display_name": "Python 2",
   "language": "python",
   "name": "python2"
  },
  "language_info": {
   "codemirror_mode": {
    "name": "ipython",
    "version": 2
   },
   "file_extension": ".py",
   "mimetype": "text/x-python",
   "name": "python",
   "nbconvert_exporter": "python",
   "pygments_lexer": "ipython2",
   "version": "2.7.6"
  }
 },
 "nbformat": 4,
 "nbformat_minor": 0
}
